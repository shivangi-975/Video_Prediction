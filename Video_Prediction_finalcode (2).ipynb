{
  "nbformat": 4,
  "nbformat_minor": 0,
  "metadata": {
    "colab": {
      "name": "Video_Prediction_finalcode.ipynb",
      "provenance": [],
      "collapsed_sections": []
    },
    "kernelspec": {
      "name": "python3",
      "display_name": "Python 3"
    },
    "accelerator": "GPU"
  },
  "cells": [
    {
      "cell_type": "code",
      "metadata": {
        "colab": {
          "base_uri": "https://localhost:8080/"
        },
        "id": "-dliLRuid3Bx",
        "outputId": "9b7f54bb-0f35-4f17-94d4-37aadef9bd84"
      },
      "source": [
        "!git clone https://github.com/SUTDBrainLab/MGP-VAE.git\r\n"
      ],
      "execution_count": 8,
      "outputs": [
        {
          "output_type": "stream",
          "text": [
            "Cloning into 'MGP-VAE'...\n",
            "remote: Enumerating objects: 111, done.\u001b[K\n",
            "remote: Counting objects: 100% (111/111), done.\u001b[K\n",
            "remote: Compressing objects: 100% (94/94), done.\u001b[K\n",
            "remote: Total 111 (delta 56), reused 43 (delta 15), pack-reused 0\u001b[K\n",
            "Receiving objects: 100% (111/111), 384.30 KiB | 14.78 MiB/s, done.\n",
            "Resolving deltas: 100% (56/56), done.\n"
          ],
          "name": "stdout"
        }
      ]
    },
    {
      "cell_type": "code",
      "metadata": {
        "colab": {
          "base_uri": "https://localhost:8080/"
        },
        "id": "rmDxzrj4eTv4",
        "outputId": "b9afba5d-ea73-43d7-e6f5-9b9c747f2623"
      },
      "source": [
        "cd \\MGP-VAE"
      ],
      "execution_count": 9,
      "outputs": [
        {
          "output_type": "stream",
          "text": [
            "/content/MGP-VAE/MGP-VAE/MGP-VAE\n"
          ],
          "name": "stdout"
        }
      ]
    },
    {
      "cell_type": "code",
      "metadata": {
        "colab": {
          "base_uri": "https://localhost:8080/",
          "height": 1000
        },
        "id": "L04KEI4heZyc",
        "outputId": "ae70ef82-29b6-4d8b-8649-e947df400a34"
      },
      "source": [
        "pip install -r requirements.txt"
      ],
      "execution_count": 10,
      "outputs": [
        {
          "output_type": "stream",
          "text": [
            "Requirement already satisfied: cycler==0.10.0 in /usr/local/lib/python3.6/dist-packages (from -r requirements.txt (line 1)) (0.10.0)\n",
            "Collecting matplotlib==3.0.3\n",
            "\u001b[?25l  Downloading https://files.pythonhosted.org/packages/e9/69/f5e05f578585ed9935247be3788b374f90701296a70c8871bcd6d21edb00/matplotlib-3.0.3-cp36-cp36m-manylinux1_x86_64.whl (13.0MB)\n",
            "\u001b[K     |████████████████████████████████| 13.0MB 228kB/s \n",
            "\u001b[?25hCollecting numpy==1.18.5\n",
            "\u001b[?25l  Downloading https://files.pythonhosted.org/packages/b3/a9/b1bc4c935ed063766bce7d3e8c7b20bd52e515ff1c732b02caacf7918e5a/numpy-1.18.5-cp36-cp36m-manylinux1_x86_64.whl (20.1MB)\n",
            "\u001b[K     |████████████████████████████████| 20.1MB 1.3MB/s \n",
            "\u001b[?25hCollecting scipy==1.3.0\n",
            "\u001b[?25l  Downloading https://files.pythonhosted.org/packages/72/4c/5f81e7264b0a7a8bd570810f48cd346ba36faedbd2ba255c873ad556de76/scipy-1.3.0-cp36-cp36m-manylinux1_x86_64.whl (25.2MB)\n",
            "\u001b[K     |████████████████████████████████| 25.2MB 118kB/s \n",
            "\u001b[?25hCollecting tensorboard==1.13.1\n",
            "\u001b[?25l  Downloading https://files.pythonhosted.org/packages/0f/39/bdd75b08a6fba41f098b6cb091b9e8c7a80e1b4d679a581a0ccd17b10373/tensorboard-1.13.1-py3-none-any.whl (3.2MB)\n",
            "\u001b[K     |████████████████████████████████| 3.2MB 46.6MB/s \n",
            "\u001b[?25hCollecting tensorboardX==1.7\n",
            "\u001b[?25l  Downloading https://files.pythonhosted.org/packages/a2/57/2f0a46538295b8e7f09625da6dd24c23f9d0d7ef119ca1c33528660130d5/tensorboardX-1.7-py2.py3-none-any.whl (238kB)\n",
            "\u001b[K     |████████████████████████████████| 245kB 47.6MB/s \n",
            "\u001b[?25hCollecting torch==1.1.0\n",
            "\u001b[?25l  Downloading https://files.pythonhosted.org/packages/69/60/f685fb2cfb3088736bafbc9bdbb455327bdc8906b606da9c9a81bae1c81e/torch-1.1.0-cp36-cp36m-manylinux1_x86_64.whl (676.9MB)\n",
            "\u001b[K     |████████████████████████████████| 676.9MB 22kB/s \n",
            "\u001b[?25hCollecting torchvision==0.3.0\n",
            "\u001b[?25l  Downloading https://files.pythonhosted.org/packages/2e/45/0f2f3062c92d9cf1d5d7eabd3cae88cea9affbd2b17fb1c043627838cb0a/torchvision-0.3.0-cp36-cp36m-manylinux1_x86_64.whl (2.6MB)\n",
            "\u001b[K     |████████████████████████████████| 2.6MB 54.1MB/s \n",
            "\u001b[?25hRequirement already satisfied: six in /usr/local/lib/python3.6/dist-packages (from cycler==0.10.0->-r requirements.txt (line 1)) (1.15.0)\n",
            "Requirement already satisfied: kiwisolver>=1.0.1 in /usr/local/lib/python3.6/dist-packages (from matplotlib==3.0.3->-r requirements.txt (line 2)) (1.3.1)\n",
            "Requirement already satisfied: python-dateutil>=2.1 in /usr/local/lib/python3.6/dist-packages (from matplotlib==3.0.3->-r requirements.txt (line 2)) (2.8.1)\n",
            "Requirement already satisfied: pyparsing!=2.0.4,!=2.1.2,!=2.1.6,>=2.0.1 in /usr/local/lib/python3.6/dist-packages (from matplotlib==3.0.3->-r requirements.txt (line 2)) (2.4.7)\n",
            "Requirement already satisfied: protobuf>=3.6.0 in /usr/local/lib/python3.6/dist-packages (from tensorboard==1.13.1->-r requirements.txt (line 5)) (3.12.4)\n",
            "Requirement already satisfied: absl-py>=0.4 in /usr/local/lib/python3.6/dist-packages (from tensorboard==1.13.1->-r requirements.txt (line 5)) (0.10.0)\n",
            "Requirement already satisfied: wheel>=0.26; python_version >= \"3\" in /usr/local/lib/python3.6/dist-packages (from tensorboard==1.13.1->-r requirements.txt (line 5)) (0.36.2)\n",
            "Requirement already satisfied: markdown>=2.6.8 in /usr/local/lib/python3.6/dist-packages (from tensorboard==1.13.1->-r requirements.txt (line 5)) (3.3.3)\n",
            "Requirement already satisfied: werkzeug>=0.11.15 in /usr/local/lib/python3.6/dist-packages (from tensorboard==1.13.1->-r requirements.txt (line 5)) (1.0.1)\n",
            "Requirement already satisfied: grpcio>=1.6.3 in /usr/local/lib/python3.6/dist-packages (from tensorboard==1.13.1->-r requirements.txt (line 5)) (1.32.0)\n",
            "Requirement already satisfied: pillow>=4.1.1 in /usr/local/lib/python3.6/dist-packages (from torchvision==0.3.0->-r requirements.txt (line 8)) (7.0.0)\n",
            "Requirement already satisfied: setuptools in /usr/local/lib/python3.6/dist-packages (from protobuf>=3.6.0->tensorboard==1.13.1->-r requirements.txt (line 5)) (53.0.0)\n",
            "Requirement already satisfied: importlib-metadata; python_version < \"3.8\" in /usr/local/lib/python3.6/dist-packages (from markdown>=2.6.8->tensorboard==1.13.1->-r requirements.txt (line 5)) (3.4.0)\n",
            "Requirement already satisfied: zipp>=0.5 in /usr/local/lib/python3.6/dist-packages (from importlib-metadata; python_version < \"3.8\"->markdown>=2.6.8->tensorboard==1.13.1->-r requirements.txt (line 5)) (3.4.0)\n",
            "Requirement already satisfied: typing-extensions>=3.6.4; python_version < \"3.8\" in /usr/local/lib/python3.6/dist-packages (from importlib-metadata; python_version < \"3.8\"->markdown>=2.6.8->tensorboard==1.13.1->-r requirements.txt (line 5)) (3.7.4.3)\n",
            "\u001b[31mERROR: tensorflow 2.4.1 has requirement numpy~=1.19.2, but you'll have numpy 1.18.5 which is incompatible.\u001b[0m\n",
            "\u001b[31mERROR: tensorflow 2.4.1 has requirement tensorboard~=2.4, but you'll have tensorboard 1.13.1 which is incompatible.\u001b[0m\n",
            "\u001b[31mERROR: plotnine 0.6.0 has requirement matplotlib>=3.1.1, but you'll have matplotlib 3.0.3 which is incompatible.\u001b[0m\n",
            "\u001b[31mERROR: mizani 0.6.0 has requirement matplotlib>=3.1.1, but you'll have matplotlib 3.0.3 which is incompatible.\u001b[0m\n",
            "\u001b[31mERROR: datascience 0.10.6 has requirement folium==0.2.1, but you'll have folium 0.8.3 which is incompatible.\u001b[0m\n",
            "\u001b[31mERROR: albumentations 0.1.12 has requirement imgaug<0.2.7,>=0.2.5, but you'll have imgaug 0.2.9 which is incompatible.\u001b[0m\n",
            "Installing collected packages: numpy, matplotlib, scipy, tensorboard, tensorboardX, torch, torchvision\n",
            "  Found existing installation: numpy 1.19.5\n",
            "    Uninstalling numpy-1.19.5:\n",
            "      Successfully uninstalled numpy-1.19.5\n",
            "  Found existing installation: matplotlib 3.2.2\n",
            "    Uninstalling matplotlib-3.2.2:\n",
            "      Successfully uninstalled matplotlib-3.2.2\n",
            "  Found existing installation: scipy 1.4.1\n",
            "    Uninstalling scipy-1.4.1:\n",
            "      Successfully uninstalled scipy-1.4.1\n",
            "  Found existing installation: tensorboard 2.4.1\n",
            "    Uninstalling tensorboard-2.4.1:\n",
            "      Successfully uninstalled tensorboard-2.4.1\n",
            "  Found existing installation: torch 1.7.0+cu101\n",
            "    Uninstalling torch-1.7.0+cu101:\n",
            "      Successfully uninstalled torch-1.7.0+cu101\n",
            "  Found existing installation: torchvision 0.8.1+cu101\n",
            "    Uninstalling torchvision-0.8.1+cu101:\n",
            "      Successfully uninstalled torchvision-0.8.1+cu101\n",
            "Successfully installed matplotlib-3.0.3 numpy-1.18.5 scipy-1.3.0 tensorboard-1.13.1 tensorboardX-1.7 torch-1.1.0 torchvision-0.3.0\n"
          ],
          "name": "stdout"
        },
        {
          "output_type": "display_data",
          "data": {
            "application/vnd.colab-display-data+json": {
              "pip_warning": {
                "packages": [
                  "matplotlib",
                  "mpl_toolkits",
                  "numpy"
                ]
              }
            }
          },
          "metadata": {
            "tags": []
          }
        }
      ]
    },
    {
      "cell_type": "code",
      "metadata": {
        "id": "OrR_QW_sfToF"
      },
      "source": [
        "import zipfile\r\n",
        "with zipfile.ZipFile(\"//content/Moving_MNIST_Data.zip\",\"r\") as zip_ref:\r\n",
        "  zip_ref.extractall(\"/content/MGP-VAE/\")"
      ],
      "execution_count": null,
      "outputs": []
    },
    {
      "cell_type": "code",
      "metadata": {
        "colab": {
          "base_uri": "https://localhost:8080/"
        },
        "id": "SjwI5n2EsnV7",
        "outputId": "871c4434-9325-453f-e2bc-92a1edcc0010"
      },
      "source": [
        "from zipfile import ZipFile\r\n",
        "import subprocess, sys\r\n",
        "\r\n",
        "def Unzip(zipFile, destinationDirectory):\r\n",
        "    try:\r\n",
        "        with ZipFile(zipFile, 'r') as zipObj:\r\n",
        "            # Extract all the contents of zip file in different directory\r\n",
        "            zipObj.extractall(destinationDirectory)\r\n",
        "    except:\r\n",
        "        print(\"An exception occurred extracting with Python ZipFile library.\")\r\n",
        "        print(\"Attempting to extract using 7zip\")\r\n",
        "        subprocess.Popen([\"7z\", \"e\", f\"{zipFile}\", f\"-o{destinationDirectory}\", \"-y\"])\r\n",
        "Unzip(\"/content/data_dsprites.zip\",\"/content/MGP-VAE/\")"
      ],
      "execution_count": null,
      "outputs": [
        {
          "output_type": "stream",
          "text": [
            "An exception occurred extracting with Python ZipFile library.\n",
            "Attempting to extract using 7zip\n"
          ],
          "name": "stdout"
        }
      ]
    },
    {
      "cell_type": "code",
      "metadata": {
        "colab": {
          "base_uri": "https://localhost:8080/",
          "height": 273
        },
        "id": "8_V8FKHpi9OA",
        "outputId": "4dc41091-c8cc-4e13-f4cb-0a95e0dfc469"
      },
      "source": [
        "!pip3 install Pillow==6.1\r\n"
      ],
      "execution_count": null,
      "outputs": [
        {
          "output_type": "stream",
          "text": [
            "Collecting Pillow==6.1\n",
            "\u001b[?25l  Downloading https://files.pythonhosted.org/packages/14/41/db6dec65ddbc176a59b89485e8cc136a433ed9c6397b6bfe2cd38412051e/Pillow-6.1.0-cp36-cp36m-manylinux1_x86_64.whl (2.1MB)\n",
            "\r\u001b[K     |▏                               | 10kB 19.6MB/s eta 0:00:01\r\u001b[K     |▎                               | 20kB 26.9MB/s eta 0:00:01\r\u001b[K     |▌                               | 30kB 23.1MB/s eta 0:00:01\r\u001b[K     |▋                               | 40kB 18.4MB/s eta 0:00:01\r\u001b[K     |▉                               | 51kB 13.4MB/s eta 0:00:01\r\u001b[K     |█                               | 61kB 14.2MB/s eta 0:00:01\r\u001b[K     |█▏                              | 71kB 13.8MB/s eta 0:00:01\r\u001b[K     |█▎                              | 81kB 13.8MB/s eta 0:00:01\r\u001b[K     |█▍                              | 92kB 13.8MB/s eta 0:00:01\r\u001b[K     |█▋                              | 102kB 13.4MB/s eta 0:00:01\r\u001b[K     |█▊                              | 112kB 13.4MB/s eta 0:00:01\r\u001b[K     |██                              | 122kB 13.4MB/s eta 0:00:01\r\u001b[K     |██                              | 133kB 13.4MB/s eta 0:00:01\r\u001b[K     |██▎                             | 143kB 13.4MB/s eta 0:00:01\r\u001b[K     |██▍                             | 153kB 13.4MB/s eta 0:00:01\r\u001b[K     |██▌                             | 163kB 13.4MB/s eta 0:00:01\r\u001b[K     |██▊                             | 174kB 13.4MB/s eta 0:00:01\r\u001b[K     |██▉                             | 184kB 13.4MB/s eta 0:00:01\r\u001b[K     |███                             | 194kB 13.4MB/s eta 0:00:01\r\u001b[K     |███▏                            | 204kB 13.4MB/s eta 0:00:01\r\u001b[K     |███▍                            | 215kB 13.4MB/s eta 0:00:01\r\u001b[K     |███▌                            | 225kB 13.4MB/s eta 0:00:01\r\u001b[K     |███▋                            | 235kB 13.4MB/s eta 0:00:01\r\u001b[K     |███▉                            | 245kB 13.4MB/s eta 0:00:01\r\u001b[K     |████                            | 256kB 13.4MB/s eta 0:00:01\r\u001b[K     |████▏                           | 266kB 13.4MB/s eta 0:00:01\r\u001b[K     |████▎                           | 276kB 13.4MB/s eta 0:00:01\r\u001b[K     |████▌                           | 286kB 13.4MB/s eta 0:00:01\r\u001b[K     |████▋                           | 296kB 13.4MB/s eta 0:00:01\r\u001b[K     |████▊                           | 307kB 13.4MB/s eta 0:00:01\r\u001b[K     |█████                           | 317kB 13.4MB/s eta 0:00:01\r\u001b[K     |█████                           | 327kB 13.4MB/s eta 0:00:01\r\u001b[K     |█████▎                          | 337kB 13.4MB/s eta 0:00:01\r\u001b[K     |█████▍                          | 348kB 13.4MB/s eta 0:00:01\r\u001b[K     |█████▋                          | 358kB 13.4MB/s eta 0:00:01\r\u001b[K     |█████▊                          | 368kB 13.4MB/s eta 0:00:01\r\u001b[K     |█████▉                          | 378kB 13.4MB/s eta 0:00:01\r\u001b[K     |██████                          | 389kB 13.4MB/s eta 0:00:01\r\u001b[K     |██████▏                         | 399kB 13.4MB/s eta 0:00:01\r\u001b[K     |██████▍                         | 409kB 13.4MB/s eta 0:00:01\r\u001b[K     |██████▌                         | 419kB 13.4MB/s eta 0:00:01\r\u001b[K     |██████▊                         | 430kB 13.4MB/s eta 0:00:01\r\u001b[K     |██████▉                         | 440kB 13.4MB/s eta 0:00:01\r\u001b[K     |███████                         | 450kB 13.4MB/s eta 0:00:01\r\u001b[K     |███████▏                        | 460kB 13.4MB/s eta 0:00:01\r\u001b[K     |███████▎                        | 471kB 13.4MB/s eta 0:00:01\r\u001b[K     |███████▌                        | 481kB 13.4MB/s eta 0:00:01\r\u001b[K     |███████▋                        | 491kB 13.4MB/s eta 0:00:01\r\u001b[K     |███████▉                        | 501kB 13.4MB/s eta 0:00:01\r\u001b[K     |████████                        | 512kB 13.4MB/s eta 0:00:01\r\u001b[K     |████████▏                       | 522kB 13.4MB/s eta 0:00:01\r\u001b[K     |████████▎                       | 532kB 13.4MB/s eta 0:00:01\r\u001b[K     |████████▍                       | 542kB 13.4MB/s eta 0:00:01\r\u001b[K     |████████▋                       | 552kB 13.4MB/s eta 0:00:01\r\u001b[K     |████████▊                       | 563kB 13.4MB/s eta 0:00:01\r\u001b[K     |█████████                       | 573kB 13.4MB/s eta 0:00:01\r\u001b[K     |█████████                       | 583kB 13.4MB/s eta 0:00:01\r\u001b[K     |█████████▎                      | 593kB 13.4MB/s eta 0:00:01\r\u001b[K     |█████████▍                      | 604kB 13.4MB/s eta 0:00:01\r\u001b[K     |█████████▌                      | 614kB 13.4MB/s eta 0:00:01\r\u001b[K     |█████████▊                      | 624kB 13.4MB/s eta 0:00:01\r\u001b[K     |█████████▉                      | 634kB 13.4MB/s eta 0:00:01\r\u001b[K     |██████████                      | 645kB 13.4MB/s eta 0:00:01\r\u001b[K     |██████████▏                     | 655kB 13.4MB/s eta 0:00:01\r\u001b[K     |██████████▍                     | 665kB 13.4MB/s eta 0:00:01\r\u001b[K     |██████████▌                     | 675kB 13.4MB/s eta 0:00:01\r\u001b[K     |██████████▋                     | 686kB 13.4MB/s eta 0:00:01\r\u001b[K     |██████████▉                     | 696kB 13.4MB/s eta 0:00:01\r\u001b[K     |███████████                     | 706kB 13.4MB/s eta 0:00:01\r\u001b[K     |███████████▏                    | 716kB 13.4MB/s eta 0:00:01\r\u001b[K     |███████████▎                    | 727kB 13.4MB/s eta 0:00:01\r\u001b[K     |███████████▌                    | 737kB 13.4MB/s eta 0:00:01\r\u001b[K     |███████████▋                    | 747kB 13.4MB/s eta 0:00:01\r\u001b[K     |███████████▊                    | 757kB 13.4MB/s eta 0:00:01\r\u001b[K     |████████████                    | 768kB 13.4MB/s eta 0:00:01\r\u001b[K     |████████████                    | 778kB 13.4MB/s eta 0:00:01\r\u001b[K     |████████████▎                   | 788kB 13.4MB/s eta 0:00:01\r\u001b[K     |████████████▍                   | 798kB 13.4MB/s eta 0:00:01\r\u001b[K     |████████████▋                   | 808kB 13.4MB/s eta 0:00:01\r\u001b[K     |████████████▊                   | 819kB 13.4MB/s eta 0:00:01\r\u001b[K     |████████████▉                   | 829kB 13.4MB/s eta 0:00:01\r\u001b[K     |█████████████                   | 839kB 13.4MB/s eta 0:00:01\r\u001b[K     |█████████████▏                  | 849kB 13.4MB/s eta 0:00:01\r\u001b[K     |█████████████▍                  | 860kB 13.4MB/s eta 0:00:01\r\u001b[K     |█████████████▌                  | 870kB 13.4MB/s eta 0:00:01\r\u001b[K     |█████████████▊                  | 880kB 13.4MB/s eta 0:00:01\r\u001b[K     |█████████████▉                  | 890kB 13.4MB/s eta 0:00:01\r\u001b[K     |██████████████                  | 901kB 13.4MB/s eta 0:00:01\r\u001b[K     |██████████████▏                 | 911kB 13.4MB/s eta 0:00:01\r\u001b[K     |██████████████▎                 | 921kB 13.4MB/s eta 0:00:01\r\u001b[K     |██████████████▌                 | 931kB 13.4MB/s eta 0:00:01\r\u001b[K     |██████████████▋                 | 942kB 13.4MB/s eta 0:00:01\r\u001b[K     |██████████████▉                 | 952kB 13.4MB/s eta 0:00:01\r\u001b[K     |███████████████                 | 962kB 13.4MB/s eta 0:00:01\r\u001b[K     |███████████████▏                | 972kB 13.4MB/s eta 0:00:01\r\u001b[K     |███████████████▎                | 983kB 13.4MB/s eta 0:00:01\r\u001b[K     |███████████████▍                | 993kB 13.4MB/s eta 0:00:01\r\u001b[K     |███████████████▋                | 1.0MB 13.4MB/s eta 0:00:01\r\u001b[K     |███████████████▊                | 1.0MB 13.4MB/s eta 0:00:01\r\u001b[K     |████████████████                | 1.0MB 13.4MB/s eta 0:00:01\r\u001b[K     |████████████████                | 1.0MB 13.4MB/s eta 0:00:01\r\u001b[K     |████████████████▎               | 1.0MB 13.4MB/s eta 0:00:01\r\u001b[K     |████████████████▍               | 1.1MB 13.4MB/s eta 0:00:01\r\u001b[K     |████████████████▌               | 1.1MB 13.4MB/s eta 0:00:01\r\u001b[K     |████████████████▊               | 1.1MB 13.4MB/s eta 0:00:01\r\u001b[K     |████████████████▉               | 1.1MB 13.4MB/s eta 0:00:01\r\u001b[K     |█████████████████               | 1.1MB 13.4MB/s eta 0:00:01\r\u001b[K     |█████████████████▏              | 1.1MB 13.4MB/s eta 0:00:01\r\u001b[K     |█████████████████▍              | 1.1MB 13.4MB/s eta 0:00:01\r\u001b[K     |█████████████████▌              | 1.1MB 13.4MB/s eta 0:00:01\r\u001b[K     |█████████████████▋              | 1.1MB 13.4MB/s eta 0:00:01\r\u001b[K     |█████████████████▉              | 1.1MB 13.4MB/s eta 0:00:01\r\u001b[K     |██████████████████              | 1.2MB 13.4MB/s eta 0:00:01\r\u001b[K     |██████████████████▏             | 1.2MB 13.4MB/s eta 0:00:01\r\u001b[K     |██████████████████▎             | 1.2MB 13.4MB/s eta 0:00:01\r\u001b[K     |██████████████████▌             | 1.2MB 13.4MB/s eta 0:00:01\r\u001b[K     |██████████████████▋             | 1.2MB 13.4MB/s eta 0:00:01\r\u001b[K     |██████████████████▊             | 1.2MB 13.4MB/s eta 0:00:01\r\u001b[K     |███████████████████             | 1.2MB 13.4MB/s eta 0:00:01\r\u001b[K     |███████████████████             | 1.2MB 13.4MB/s eta 0:00:01\r\u001b[K     |███████████████████▎            | 1.2MB 13.4MB/s eta 0:00:01\r\u001b[K     |███████████████████▍            | 1.2MB 13.4MB/s eta 0:00:01\r\u001b[K     |███████████████████▋            | 1.3MB 13.4MB/s eta 0:00:01\r\u001b[K     |███████████████████▊            | 1.3MB 13.4MB/s eta 0:00:01\r\u001b[K     |███████████████████▉            | 1.3MB 13.4MB/s eta 0:00:01\r\u001b[K     |████████████████████            | 1.3MB 13.4MB/s eta 0:00:01\r\u001b[K     |████████████████████▏           | 1.3MB 13.4MB/s eta 0:00:01\r\u001b[K     |████████████████████▍           | 1.3MB 13.4MB/s eta 0:00:01\r\u001b[K     |████████████████████▌           | 1.3MB 13.4MB/s eta 0:00:01\r\u001b[K     |████████████████████▊           | 1.3MB 13.4MB/s eta 0:00:01\r\u001b[K     |████████████████████▉           | 1.3MB 13.4MB/s eta 0:00:01\r\u001b[K     |█████████████████████           | 1.4MB 13.4MB/s eta 0:00:01\r\u001b[K     |█████████████████████▏          | 1.4MB 13.4MB/s eta 0:00:01\r\u001b[K     |█████████████████████▎          | 1.4MB 13.4MB/s eta 0:00:01\r\u001b[K     |█████████████████████▌          | 1.4MB 13.4MB/s eta 0:00:01\r\u001b[K     |█████████████████████▋          | 1.4MB 13.4MB/s eta 0:00:01\r\u001b[K     |█████████████████████▉          | 1.4MB 13.4MB/s eta 0:00:01\r\u001b[K     |██████████████████████          | 1.4MB 13.4MB/s eta 0:00:01\r\u001b[K     |██████████████████████▏         | 1.4MB 13.4MB/s eta 0:00:01\r\u001b[K     |██████████████████████▎         | 1.4MB 13.4MB/s eta 0:00:01\r\u001b[K     |██████████████████████▍         | 1.4MB 13.4MB/s eta 0:00:01\r\u001b[K     |██████████████████████▋         | 1.5MB 13.4MB/s eta 0:00:01\r\u001b[K     |██████████████████████▊         | 1.5MB 13.4MB/s eta 0:00:01\r\u001b[K     |███████████████████████         | 1.5MB 13.4MB/s eta 0:00:01\r\u001b[K     |███████████████████████         | 1.5MB 13.4MB/s eta 0:00:01\r\u001b[K     |███████████████████████▎        | 1.5MB 13.4MB/s eta 0:00:01\r\u001b[K     |███████████████████████▍        | 1.5MB 13.4MB/s eta 0:00:01\r\u001b[K     |███████████████████████▌        | 1.5MB 13.4MB/s eta 0:00:01\r\u001b[K     |███████████████████████▊        | 1.5MB 13.4MB/s eta 0:00:01\r\u001b[K     |███████████████████████▉        | 1.5MB 13.4MB/s eta 0:00:01\r\u001b[K     |████████████████████████        | 1.5MB 13.4MB/s eta 0:00:01\r\u001b[K     |████████████████████████▏       | 1.6MB 13.4MB/s eta 0:00:01\r\u001b[K     |████████████████████████▍       | 1.6MB 13.4MB/s eta 0:00:01\r\u001b[K     |████████████████████████▌       | 1.6MB 13.4MB/s eta 0:00:01\r\u001b[K     |████████████████████████▋       | 1.6MB 13.4MB/s eta 0:00:01\r\u001b[K     |████████████████████████▉       | 1.6MB 13.4MB/s eta 0:00:01\r\u001b[K     |█████████████████████████       | 1.6MB 13.4MB/s eta 0:00:01\r\u001b[K     |█████████████████████████▏      | 1.6MB 13.4MB/s eta 0:00:01\r\u001b[K     |█████████████████████████▎      | 1.6MB 13.4MB/s eta 0:00:01\r\u001b[K     |█████████████████████████▌      | 1.6MB 13.4MB/s eta 0:00:01\r\u001b[K     |█████████████████████████▋      | 1.6MB 13.4MB/s eta 0:00:01\r\u001b[K     |█████████████████████████▊      | 1.7MB 13.4MB/s eta 0:00:01\r\u001b[K     |██████████████████████████      | 1.7MB 13.4MB/s eta 0:00:01\r\u001b[K     |██████████████████████████      | 1.7MB 13.4MB/s eta 0:00:01\r\u001b[K     |██████████████████████████▎     | 1.7MB 13.4MB/s eta 0:00:01\r\u001b[K     |██████████████████████████▍     | 1.7MB 13.4MB/s eta 0:00:01\r\u001b[K     |██████████████████████████▋     | 1.7MB 13.4MB/s eta 0:00:01\r\u001b[K     |██████████████████████████▊     | 1.7MB 13.4MB/s eta 0:00:01\r\u001b[K     |██████████████████████████▉     | 1.7MB 13.4MB/s eta 0:00:01\r\u001b[K     |███████████████████████████     | 1.7MB 13.4MB/s eta 0:00:01\r\u001b[K     |███████████████████████████▏    | 1.8MB 13.4MB/s eta 0:00:01\r\u001b[K     |███████████████████████████▍    | 1.8MB 13.4MB/s eta 0:00:01\r\u001b[K     |███████████████████████████▌    | 1.8MB 13.4MB/s eta 0:00:01\r\u001b[K     |███████████████████████████▊    | 1.8MB 13.4MB/s eta 0:00:01\r\u001b[K     |███████████████████████████▉    | 1.8MB 13.4MB/s eta 0:00:01\r\u001b[K     |████████████████████████████    | 1.8MB 13.4MB/s eta 0:00:01\r\u001b[K     |████████████████████████████▏   | 1.8MB 13.4MB/s eta 0:00:01\r\u001b[K     |████████████████████████████▎   | 1.8MB 13.4MB/s eta 0:00:01\r\u001b[K     |████████████████████████████▌   | 1.8MB 13.4MB/s eta 0:00:01\r\u001b[K     |████████████████████████████▋   | 1.8MB 13.4MB/s eta 0:00:01\r\u001b[K     |████████████████████████████▉   | 1.9MB 13.4MB/s eta 0:00:01\r\u001b[K     |█████████████████████████████   | 1.9MB 13.4MB/s eta 0:00:01\r\u001b[K     |█████████████████████████████   | 1.9MB 13.4MB/s eta 0:00:01\r\u001b[K     |█████████████████████████████▎  | 1.9MB 13.4MB/s eta 0:00:01\r\u001b[K     |█████████████████████████████▍  | 1.9MB 13.4MB/s eta 0:00:01\r\u001b[K     |█████████████████████████████▋  | 1.9MB 13.4MB/s eta 0:00:01\r\u001b[K     |█████████████████████████████▊  | 1.9MB 13.4MB/s eta 0:00:01\r\u001b[K     |██████████████████████████████  | 1.9MB 13.4MB/s eta 0:00:01\r\u001b[K     |██████████████████████████████  | 1.9MB 13.4MB/s eta 0:00:01\r\u001b[K     |██████████████████████████████▎ | 1.9MB 13.4MB/s eta 0:00:01\r\u001b[K     |██████████████████████████████▍ | 2.0MB 13.4MB/s eta 0:00:01\r\u001b[K     |██████████████████████████████▌ | 2.0MB 13.4MB/s eta 0:00:01\r\u001b[K     |██████████████████████████████▊ | 2.0MB 13.4MB/s eta 0:00:01\r\u001b[K     |██████████████████████████████▉ | 2.0MB 13.4MB/s eta 0:00:01\r\u001b[K     |███████████████████████████████ | 2.0MB 13.4MB/s eta 0:00:01\r\u001b[K     |███████████████████████████████▏| 2.0MB 13.4MB/s eta 0:00:01\r\u001b[K     |███████████████████████████████▍| 2.0MB 13.4MB/s eta 0:00:01\r\u001b[K     |███████████████████████████████▌| 2.0MB 13.4MB/s eta 0:00:01\r\u001b[K     |███████████████████████████████▋| 2.0MB 13.4MB/s eta 0:00:01\r\u001b[K     |███████████████████████████████▉| 2.0MB 13.4MB/s eta 0:00:01\r\u001b[K     |████████████████████████████████| 2.1MB 13.4MB/s eta 0:00:01\r\u001b[K     |████████████████████████████████| 2.1MB 13.4MB/s \n",
            "\u001b[31mERROR: albumentations 0.1.12 has requirement imgaug<0.2.7,>=0.2.5, but you'll have imgaug 0.2.9 which is incompatible.\u001b[0m\n",
            "\u001b[?25hInstalling collected packages: Pillow\n",
            "  Found existing installation: Pillow 7.0.0\n",
            "    Uninstalling Pillow-7.0.0:\n",
            "      Successfully uninstalled Pillow-7.0.0\n",
            "Successfully installed Pillow-6.1.0\n"
          ],
          "name": "stdout"
        },
        {
          "output_type": "display_data",
          "data": {
            "application/vnd.colab-display-data+json": {
              "pip_warning": {
                "packages": [
                  "PIL"
                ]
              }
            }
          },
          "metadata": {
            "tags": []
          }
        }
      ]
    },
    {
      "cell_type": "code",
      "metadata": {
        "colab": {
          "base_uri": "https://localhost:8080/"
        },
        "id": "pmw2Nbg9jIPd",
        "outputId": "34174642-80df-49f3-8a46-7747def0a2e3"
      },
      "source": [
        "!python3 train.py --is_training True\r\n"
      ],
      "execution_count": null,
      "outputs": [
        {
          "output_type": "stream",
          "text": [
            "Imageio: 'ffmpeg-linux64-v3.3.1' was not found on your computer; downloading it now.\n",
            "Try 1. Download from https://github.com/imageio/imageio-binaries/raw/master/ffmpeg/ffmpeg-linux64-v3.3.1 (43.8 MB)\n",
            "Downloading: 8192/45929032 bytes (0.0%)\b\b\b\b\b\b\b\b\b\b\b\b\b\b\b\b\b\b\b\b\b\b\b\b\b\b4030464/45929032 bytes (8.8%)\b\b\b\b\b\b\b\b\b\b\b\b\b\b\b\b\b\b\b\b\b\b\b\b\b\b\b\b\b8192000/45929032 bytes (17.8%)\b\b\b\b\b\b\b\b\b\b\b\b\b\b\b\b\b\b\b\b\b\b\b\b\b\b\b\b\b\b12410880/45929032 bytes (27.0%)\b\b\b\b\b\b\b\b\b\b\b\b\b\b\b\b\b\b\b\b\b\b\b\b\b\b\b\b\b\b\b16515072/45929032 bytes (36.0%)\b\b\b\b\b\b\b\b\b\b\b\b\b\b\b\b\b\b\b\b\b\b\b\b\b\b\b\b\b\b\b20365312/45929032 bytes (44.3%)\b\b\b\b\b\b\b\b\b\b\b\b\b\b\b\b\b\b\b\b\b\b\b\b\b\b\b\b\b\b\b24395776/45929032 bytes (53.1%)\b\b\b\b\b\b\b\b\b\b\b\b\b\b\b\b\b\b\b\b\b\b\b\b\b\b\b\b\b\b\b28614656/45929032 bytes (62.3%)\b\b\b\b\b\b\b\b\b\b\b\b\b\b\b\b\b\b\b\b\b\b\b\b\b\b\b\b\b\b\b32792576/45929032 bytes (71.4%)\b\b\b\b\b\b\b\b\b\b\b\b\b\b\b\b\b\b\b\b\b\b\b\b\b\b\b\b\b\b\b36904960/45929032 bytes (80.4%)\b\b\b\b\b\b\b\b\b\b\b\b\b\b\b\b\b\b\b\b\b\b\b\b\b\b\b\b\b\b\b41074688/45929032 bytes (89.4%)\b\b\b\b\b\b\b\b\b\b\b\b\b\b\b\b\b\b\b\b\b\b\b\b\b\b\b\b\b\b\b45260800/45929032 bytes (98.5%)\b\b\b\b\b\b\b\b\b\b\b\b\b\b\b\b\b\b\b\b\b\b\b\b\b\b\b\b\b\b\b45929032/45929032 bytes (100.0%)\n",
            "  Done\n",
            "File saved as /root/.imageio/ffmpeg/ffmpeg-linux64-v3.3.1.\n",
            "tcmalloc: large alloc 1073741824 bytes == 0xa38d6000 @  0x7f74ce7e1b6b 0x7f74ce801379 0x7f7483fe5e4e 0x7f7483fe7dca 0x7f7484c2bd62 0x7f7484d49b1b 0x7f74c330e86f 0x7f74c36eecff 0x7f74c36f448a 0x7f74c358eaf2 0x551555 0x5a9dac 0x50a433 0x50beb4 0x507be4 0x508ec2 0x594a01 0x549e8f 0x5515c1 0x5a9dac 0x50a433 0x50cc96 0x507be4 0x508ec2 0x594a01 0x549e8f 0x5515c1 0x5a9dac 0x50a433 0x50beb4 0x507be4\n",
            "THCudaCheck FAIL file=/pytorch/aten/src/THC/THCGeneral.cpp line=383 error=11 : invalid argument\n",
            "Epoch :  1 , Iteration :  200 , Total Loss :  9799.8115234375 , Image Loss :  6417.3525390625 , KL Div. Loss :  3382.458984375\n",
            "Epoch :  1 , Iteration :  400 , Total Loss :  5090.6572265625 , Image Loss :  2852.4599609375 , KL Div. Loss :  2238.197265625\n",
            "Epoch :  1 , Iteration :  600 , Total Loss :  3281.900634765625 , Image Loss :  1645.1171875 , KL Div. Loss :  1636.783447265625\n",
            "Epoch :  1 , Iteration :  800 , Total Loss :  2953.06884765625 , Image Loss :  1620.747314453125 , KL Div. Loss :  1332.321533203125\n",
            "Epoch :  1 , Iteration :  1000 , Total Loss :  2576.84521484375 , Image Loss :  1255.68408203125 , KL Div. Loss :  1321.1612548828125\n",
            "Epoch :  1 , Iteration :  1200 , Total Loss :  2464.67138671875 , Image Loss :  1331.189697265625 , KL Div. Loss :  1133.481689453125\n",
            "Epoch :  1 , Iteration :  1400 , Total Loss :  2505.3037109375 , Image Loss :  1531.7821044921875 , KL Div. Loss :  973.521484375\n",
            "Epoch :  1 , Iteration :  1600 , Total Loss :  2321.386962890625 , Image Loss :  1178.55908203125 , KL Div. Loss :  1142.827880859375\n",
            "Epoch :  1 , Iteration :  1800 , Total Loss :  1991.880126953125 , Image Loss :  1186.4345703125 , KL Div. Loss :  805.4454956054688\n",
            "Epoch :  1 , Iteration :  2000 , Total Loss :  2012.725341796875 , Image Loss :  1288.206787109375 , KL Div. Loss :  724.5184936523438\n",
            "Epoch :  1 , Iteration :  2200 , Total Loss :  2007.63916015625 , Image Loss :  1336.64990234375 , KL Div. Loss :  670.9893188476562\n",
            "Epoch :  1 , Iteration :  2400 , Total Loss :  1926.501708984375 , Image Loss :  1313.79541015625 , KL Div. Loss :  612.7063598632812\n",
            "Epoch :  1 , Iteration :  2600 , Total Loss :  1870.9415283203125 , Image Loss :  1337.822021484375 , KL Div. Loss :  533.1195068359375\n",
            "Epoch :  1 , Iteration :  2800 , Total Loss :  1974.5810546875 , Image Loss :  1456.32275390625 , KL Div. Loss :  518.25830078125\n",
            "Epoch :  1 , Iteration :  3000 , Total Loss :  1512.2880859375 , Image Loss :  1036.4539794921875 , KL Div. Loss :  475.83416748046875\n",
            "Epoch :  1 , Iteration :  3200 , Total Loss :  1507.1990966796875 , Image Loss :  1093.1915283203125 , KL Div. Loss :  414.007568359375\n",
            "Epoch :  1 , Iteration :  3400 , Total Loss :  2054.400634765625 , Image Loss :  1637.76025390625 , KL Div. Loss :  416.6404724121094\n",
            "Epoch :  1 , Iteration :  3600 , Total Loss :  1711.310302734375 , Image Loss :  1333.58984375 , KL Div. Loss :  377.72039794921875\n",
            "Epoch :  1 , Iteration :  3800 , Total Loss :  1429.03076171875 , Image Loss :  1021.89013671875 , KL Div. Loss :  407.14068603515625\n",
            "Epoch :  1 , Iteration :  4000 , Total Loss :  1437.461181640625 , Image Loss :  1119.061767578125 , KL Div. Loss :  318.3994140625\n",
            "Epoch :  1 , Iteration :  4200 , Total Loss :  1815.957763671875 , Image Loss :  1450.892578125 , KL Div. Loss :  365.06512451171875\n",
            "Epoch :  1 , Iteration :  4400 , Total Loss :  1877.3338623046875 , Image Loss :  1527.01171875 , KL Div. Loss :  350.3221435546875\n",
            "Epoch :  1 , Iteration :  4600 , Total Loss :  1677.642822265625 , Image Loss :  1349.556640625 , KL Div. Loss :  328.08624267578125\n",
            "Epoch :  1 , Iteration :  4800 , Total Loss :  1393.442626953125 , Image Loss :  1131.3505859375 , KL Div. Loss :  262.09197998046875\n",
            "Epoch :  1 , Iteration :  5000 , Total Loss :  1584.4598388671875 , Image Loss :  1299.1715087890625 , KL Div. Loss :  285.288330078125\n",
            "Epoch :  1 , Iteration :  5200 , Total Loss :  1305.3511962890625 , Image Loss :  1051.022216796875 , KL Div. Loss :  254.32899475097656\n",
            "Epoch :  1 , Iteration :  5400 , Total Loss :  1291.92138671875 , Image Loss :  1030.98828125 , KL Div. Loss :  260.93304443359375\n",
            "Epoch :  1 , Iteration :  5600 , Total Loss :  1486.923583984375 , Image Loss :  1215.181640625 , KL Div. Loss :  271.74200439453125\n",
            "Epoch :  1 , Iteration :  5800 , Total Loss :  1315.9365234375 , Image Loss :  1061.125 , KL Div. Loss :  254.8115234375\n",
            "Epoch :  1 , Iteration :  6000 , Total Loss :  1715.187255859375 , Image Loss :  1477.482177734375 , KL Div. Loss :  237.70506286621094\n",
            "Epoch :  1 , Iteration :  6200 , Total Loss :  1409.5880126953125 , Image Loss :  1148.477294921875 , KL Div. Loss :  261.1107177734375\n",
            "Model Saved! Epoch loss at 23101.116455078125\n",
            "Epoch :  2 , Iteration :  200 , Total Loss :  1346.2020263671875 , Image Loss :  1133.04296875 , KL Div. Loss :  213.15908813476562\n",
            "Epoch :  2 , Iteration :  400 , Total Loss :  1303.2493896484375 , Image Loss :  1092.0997314453125 , KL Div. Loss :  211.14967346191406\n",
            "Epoch :  2 , Iteration :  600 , Total Loss :  1330.10791015625 , Image Loss :  1139.536376953125 , KL Div. Loss :  190.5715789794922\n",
            "Epoch :  2 , Iteration :  800 , Total Loss :  1744.6068115234375 , Image Loss :  1546.2265625 , KL Div. Loss :  198.38027954101562\n",
            "Epoch :  2 , Iteration :  1000 , Total Loss :  1272.2442626953125 , Image Loss :  1069.7725830078125 , KL Div. Loss :  202.47171020507812\n",
            "Epoch :  2 , Iteration :  1200 , Total Loss :  1376.0413818359375 , Image Loss :  1178.124267578125 , KL Div. Loss :  197.9170684814453\n",
            "Epoch :  2 , Iteration :  1400 , Total Loss :  1506.509521484375 , Image Loss :  1302.9739990234375 , KL Div. Loss :  203.53558349609375\n",
            "Epoch :  2 , Iteration :  1600 , Total Loss :  1586.1898193359375 , Image Loss :  1398.1953125 , KL Div. Loss :  187.9945526123047\n",
            "Epoch :  2 , Iteration :  1800 , Total Loss :  1425.90625 , Image Loss :  1226.153076171875 , KL Div. Loss :  199.75320434570312\n",
            "Epoch :  2 , Iteration :  2000 , Total Loss :  1472.473388671875 , Image Loss :  1261.966552734375 , KL Div. Loss :  210.50677490234375\n",
            "Epoch :  2 , Iteration :  2200 , Total Loss :  1058.400390625 , Image Loss :  878.619873046875 , KL Div. Loss :  179.78048706054688\n",
            "Epoch :  2 , Iteration :  2400 , Total Loss :  1420.3447265625 , Image Loss :  1215.1121826171875 , KL Div. Loss :  205.23257446289062\n",
            "Epoch :  2 , Iteration :  2600 , Total Loss :  1473.272216796875 , Image Loss :  1286.829345703125 , KL Div. Loss :  186.44281005859375\n",
            "Epoch :  2 , Iteration :  2800 , Total Loss :  1541.52001953125 , Image Loss :  1363.54248046875 , KL Div. Loss :  177.97760009765625\n",
            "Epoch :  2 , Iteration :  3000 , Total Loss :  1581.1845703125 , Image Loss :  1378.044189453125 , KL Div. Loss :  203.1403350830078\n",
            "Epoch :  2 , Iteration :  3200 , Total Loss :  1285.912353515625 , Image Loss :  1103.927978515625 , KL Div. Loss :  181.98440551757812\n",
            "Epoch :  2 , Iteration :  3400 , Total Loss :  1219.16552734375 , Image Loss :  1027.277587890625 , KL Div. Loss :  191.88796997070312\n",
            "Epoch :  2 , Iteration :  3600 , Total Loss :  1279.8648681640625 , Image Loss :  1084.732421875 , KL Div. Loss :  195.13241577148438\n",
            "Epoch :  2 , Iteration :  3800 , Total Loss :  1000.603759765625 , Image Loss :  814.8516235351562 , KL Div. Loss :  185.75216674804688\n",
            "Epoch :  2 , Iteration :  4000 , Total Loss :  1259.824951171875 , Image Loss :  1084.271484375 , KL Div. Loss :  175.55340576171875\n",
            "Epoch :  2 , Iteration :  4200 , Total Loss :  1350.8056640625 , Image Loss :  1129.3135986328125 , KL Div. Loss :  221.49203491210938\n",
            "Epoch :  2 , Iteration :  4400 , Total Loss :  1120.68701171875 , Image Loss :  920.262451171875 , KL Div. Loss :  200.424560546875\n",
            "Epoch :  2 , Iteration :  4600 , Total Loss :  1319.8369140625 , Image Loss :  1138.0838623046875 , KL Div. Loss :  181.7530517578125\n",
            "Epoch :  2 , Iteration :  4800 , Total Loss :  1393.8525390625 , Image Loss :  1201.42529296875 , KL Div. Loss :  192.42726135253906\n",
            "Epoch :  2 , Iteration :  5000 , Total Loss :  1378.89111328125 , Image Loss :  1190.4058837890625 , KL Div. Loss :  188.48516845703125\n",
            "Epoch :  2 , Iteration :  5200 , Total Loss :  1508.0718994140625 , Image Loss :  1290.010498046875 , KL Div. Loss :  218.06137084960938\n",
            "Epoch :  2 , Iteration :  5400 , Total Loss :  1117.093017578125 , Image Loss :  931.947998046875 , KL Div. Loss :  185.14505004882812\n",
            "Epoch :  2 , Iteration :  5600 , Total Loss :  1263.1441650390625 , Image Loss :  1082.8348388671875 , KL Div. Loss :  180.30935668945312\n",
            "Epoch :  2 , Iteration :  5800 , Total Loss :  1484.31103515625 , Image Loss :  1295.7659912109375 , KL Div. Loss :  188.54501342773438\n",
            "Epoch :  2 , Iteration :  6000 , Total Loss :  1278.8375244140625 , Image Loss :  1090.7515869140625 , KL Div. Loss :  188.08590698242188\n",
            "Epoch :  2 , Iteration :  6200 , Total Loss :  1425.5797119140625 , Image Loss :  1239.7833251953125 , KL Div. Loss :  185.79635620117188\n",
            "Model Saved! Epoch loss at 14041.578247070312\n",
            "Epoch :  3 , Iteration :  200 , Total Loss :  1384.3916015625 , Image Loss :  1217.2694091796875 , KL Div. Loss :  167.12216186523438\n",
            "Epoch :  3 , Iteration :  400 , Total Loss :  1285.113525390625 , Image Loss :  1107.137939453125 , KL Div. Loss :  177.97560119628906\n",
            "Epoch :  3 , Iteration :  600 , Total Loss :  1293.380859375 , Image Loss :  1102.7161865234375 , KL Div. Loss :  190.66464233398438\n",
            "Epoch :  3 , Iteration :  800 , Total Loss :  1229.1685791015625 , Image Loss :  1058.868408203125 , KL Div. Loss :  170.30020141601562\n",
            "Epoch :  3 , Iteration :  1000 , Total Loss :  1283.685791015625 , Image Loss :  1088.656494140625 , KL Div. Loss :  195.02923583984375\n",
            "Epoch :  3 , Iteration :  1200 , Total Loss :  1115.5352783203125 , Image Loss :  943.9600830078125 , KL Div. Loss :  171.5751953125\n",
            "Epoch :  3 , Iteration :  1400 , Total Loss :  1299.83349609375 , Image Loss :  1115.2958984375 , KL Div. Loss :  184.53762817382812\n",
            "Epoch :  3 , Iteration :  1600 , Total Loss :  1463.310302734375 , Image Loss :  1289.3193359375 , KL Div. Loss :  173.99098205566406\n",
            "Epoch :  3 , Iteration :  1800 , Total Loss :  1406.085205078125 , Image Loss :  1218.2763671875 , KL Div. Loss :  187.80885314941406\n",
            "Epoch :  3 , Iteration :  2000 , Total Loss :  1240.414306640625 , Image Loss :  1061.63818359375 , KL Div. Loss :  178.77606201171875\n",
            "Epoch :  3 , Iteration :  2200 , Total Loss :  1257.044921875 , Image Loss :  1069.821533203125 , KL Div. Loss :  187.22340393066406\n",
            "Epoch :  3 , Iteration :  2400 , Total Loss :  1334.2386474609375 , Image Loss :  1153.2939453125 , KL Div. Loss :  180.94471740722656\n",
            "Epoch :  3 , Iteration :  2600 , Total Loss :  1254.814697265625 , Image Loss :  1049.34326171875 , KL Div. Loss :  205.47140502929688\n",
            "Epoch :  3 , Iteration :  2800 , Total Loss :  1265.80224609375 , Image Loss :  1083.68798828125 , KL Div. Loss :  182.11422729492188\n",
            "Epoch :  3 , Iteration :  3000 , Total Loss :  1213.9820556640625 , Image Loss :  1011.3602294921875 , KL Div. Loss :  202.62184143066406\n",
            "Epoch :  3 , Iteration :  3200 , Total Loss :  1263.401123046875 , Image Loss :  1076.677001953125 , KL Div. Loss :  186.72415161132812\n",
            "Epoch :  3 , Iteration :  3400 , Total Loss :  1237.5975341796875 , Image Loss :  1046.573974609375 , KL Div. Loss :  191.0236053466797\n",
            "Epoch :  3 , Iteration :  3600 , Total Loss :  1227.47119140625 , Image Loss :  1030.99365234375 , KL Div. Loss :  196.4775848388672\n",
            "Epoch :  3 , Iteration :  3800 , Total Loss :  1374.0350341796875 , Image Loss :  1205.673828125 , KL Div. Loss :  168.36123657226562\n",
            "Epoch :  3 , Iteration :  4000 , Total Loss :  1406.201171875 , Image Loss :  1239.2576904296875 , KL Div. Loss :  166.94345092773438\n",
            "Epoch :  3 , Iteration :  4200 , Total Loss :  1131.5380859375 , Image Loss :  932.1281127929688 , KL Div. Loss :  199.40994262695312\n",
            "Epoch :  3 , Iteration :  4400 , Total Loss :  1317.27978515625 , Image Loss :  1128.2877197265625 , KL Div. Loss :  188.99203491210938\n",
            "Epoch :  3 , Iteration :  4600 , Total Loss :  1255.830322265625 , Image Loss :  1063.6497802734375 , KL Div. Loss :  192.18051147460938\n",
            "Epoch :  3 , Iteration :  4800 , Total Loss :  1454.151123046875 , Image Loss :  1277.027099609375 , KL Div. Loss :  177.12408447265625\n",
            "Epoch :  3 , Iteration :  5000 , Total Loss :  1099.5828857421875 , Image Loss :  923.0537719726562 , KL Div. Loss :  176.52914428710938\n",
            "Epoch :  3 , Iteration :  5200 , Total Loss :  1382.770751953125 , Image Loss :  1196.75537109375 , KL Div. Loss :  186.01535034179688\n",
            "Epoch :  3 , Iteration :  5400 , Total Loss :  1438.2830810546875 , Image Loss :  1266.666259765625 , KL Div. Loss :  171.6168212890625\n",
            "Epoch :  3 , Iteration :  5600 , Total Loss :  1125.1207275390625 , Image Loss :  932.12060546875 , KL Div. Loss :  193.00015258789062\n",
            "Epoch :  3 , Iteration :  5800 , Total Loss :  1282.29052734375 , Image Loss :  1087.7091064453125 , KL Div. Loss :  194.58148193359375\n",
            "Epoch :  3 , Iteration :  6000 , Total Loss :  1174.7830810546875 , Image Loss :  989.1731567382812 , KL Div. Loss :  185.60995483398438\n",
            "Epoch :  3 , Iteration :  6200 , Total Loss :  1220.5438232421875 , Image Loss :  1020.4610595703125 , KL Div. Loss :  200.08277893066406\n",
            "Model Saved! Epoch loss at 13239.227254231771\n",
            "Epoch :  4 , Iteration :  200 , Total Loss :  996.3043823242188 , Image Loss :  813.3204345703125 , KL Div. Loss :  182.9839630126953\n",
            "Epoch :  4 , Iteration :  400 , Total Loss :  1187.927001953125 , Image Loss :  979.79150390625 , KL Div. Loss :  208.13555908203125\n",
            "Epoch :  4 , Iteration :  600 , Total Loss :  1302.331298828125 , Image Loss :  1096.386962890625 , KL Div. Loss :  205.94430541992188\n",
            "Epoch :  4 , Iteration :  800 , Total Loss :  1243.489013671875 , Image Loss :  1057.3856201171875 , KL Div. Loss :  186.10336303710938\n",
            "Epoch :  4 , Iteration :  1000 , Total Loss :  1298.22021484375 , Image Loss :  1103.7640380859375 , KL Div. Loss :  194.45623779296875\n",
            "Epoch :  4 , Iteration :  1200 , Total Loss :  1412.6494140625 , Image Loss :  1211.9873046875 , KL Div. Loss :  200.662109375\n",
            "Epoch :  4 , Iteration :  1400 , Total Loss :  1243.6710205078125 , Image Loss :  1054.6884765625 , KL Div. Loss :  188.98251342773438\n",
            "Epoch :  4 , Iteration :  1600 , Total Loss :  968.5921630859375 , Image Loss :  799.3497314453125 , KL Div. Loss :  169.24241638183594\n",
            "Epoch :  4 , Iteration :  1800 , Total Loss :  1313.4552001953125 , Image Loss :  1132.8546142578125 , KL Div. Loss :  180.6006317138672\n",
            "Epoch :  4 , Iteration :  2000 , Total Loss :  1229.0621337890625 , Image Loss :  1031.9150390625 , KL Div. Loss :  197.1471405029297\n",
            "Epoch :  4 , Iteration :  2200 , Total Loss :  1384.61083984375 , Image Loss :  1195.171142578125 , KL Div. Loss :  189.43972778320312\n",
            "Epoch :  4 , Iteration :  2400 , Total Loss :  1255.8570556640625 , Image Loss :  1067.18115234375 , KL Div. Loss :  188.67593383789062\n",
            "Epoch :  4 , Iteration :  2600 , Total Loss :  1157.6864013671875 , Image Loss :  964.1041870117188 , KL Div. Loss :  193.58224487304688\n",
            "Epoch :  4 , Iteration :  2800 , Total Loss :  1290.6435546875 , Image Loss :  1081.355712890625 , KL Div. Loss :  209.28781127929688\n",
            "Epoch :  4 , Iteration :  3000 , Total Loss :  1149.702880859375 , Image Loss :  972.9840087890625 , KL Div. Loss :  176.71890258789062\n",
            "Epoch :  4 , Iteration :  3200 , Total Loss :  1343.302734375 , Image Loss :  1152.1981201171875 , KL Div. Loss :  191.10459899902344\n",
            "Epoch :  4 , Iteration :  3400 , Total Loss :  1284.64208984375 , Image Loss :  1105.749267578125 , KL Div. Loss :  178.89288330078125\n",
            "Epoch :  4 , Iteration :  3600 , Total Loss :  1325.9686279296875 , Image Loss :  1149.2808837890625 , KL Div. Loss :  176.687744140625\n",
            "Epoch :  4 , Iteration :  3800 , Total Loss :  1405.373291015625 , Image Loss :  1182.3486328125 , KL Div. Loss :  223.02459716796875\n",
            "Epoch :  4 , Iteration :  4000 , Total Loss :  1340.061767578125 , Image Loss :  1142.344482421875 , KL Div. Loss :  197.71725463867188\n",
            "Epoch :  4 , Iteration :  4200 , Total Loss :  1100.993896484375 , Image Loss :  929.6322021484375 , KL Div. Loss :  171.36175537109375\n",
            "Epoch :  4 , Iteration :  4400 , Total Loss :  1279.9658203125 , Image Loss :  1100.0047607421875 , KL Div. Loss :  179.96102905273438\n",
            "Epoch :  4 , Iteration :  4600 , Total Loss :  1385.1529541015625 , Image Loss :  1185.890380859375 , KL Div. Loss :  199.26255798339844\n",
            "Epoch :  4 , Iteration :  4800 , Total Loss :  1324.58935546875 , Image Loss :  1138.648681640625 , KL Div. Loss :  185.94061279296875\n",
            "Epoch :  4 , Iteration :  5000 , Total Loss :  1391.2523193359375 , Image Loss :  1202.78466796875 , KL Div. Loss :  188.46768188476562\n",
            "Epoch :  4 , Iteration :  5200 , Total Loss :  1307.732421875 , Image Loss :  1124.098388671875 , KL Div. Loss :  183.63406372070312\n",
            "Epoch :  4 , Iteration :  5400 , Total Loss :  1343.75244140625 , Image Loss :  1133.6695556640625 , KL Div. Loss :  210.08290100097656\n",
            "Epoch :  4 , Iteration :  5600 , Total Loss :  1428.2127685546875 , Image Loss :  1239.091796875 , KL Div. Loss :  189.1210174560547\n",
            "Epoch :  4 , Iteration :  5800 , Total Loss :  1279.819580078125 , Image Loss :  1103.182861328125 , KL Div. Loss :  176.6366729736328\n",
            "Epoch :  4 , Iteration :  6000 , Total Loss :  1204.76953125 , Image Loss :  1004.0846557617188 , KL Div. Loss :  200.6849365234375\n",
            "Epoch :  4 , Iteration :  6200 , Total Loss :  1597.8104248046875 , Image Loss :  1406.236083984375 , KL Div. Loss :  191.5743408203125\n"
          ],
          "name": "stdout"
        }
      ]
    },
    {
      "cell_type": "code",
      "metadata": {
        "id": "QG2IGKyPDjxh",
        "colab": {
          "base_uri": "https://localhost:8080/"
        },
        "outputId": "2c918e7b-91d6-41c4-a697-e750f0012afe"
      },
      "source": [
        "!python3 style_transfer_across_videos.py"
      ],
      "execution_count": null,
      "outputs": [
        {
          "output_type": "stream",
          "text": [
            "tcmalloc: large alloc 1073741824 bytes == 0x198ad6000 @  0x7f5e5de5fb6b 0x7f5e5de7f379 0x7f5e13663e4e 0x7f5e13665dca 0x7f5e142a9d62 0x7f5e143c7b1b 0x7f5e5298c86f 0x7f5e52d6ccff 0x7f5e52d7248a 0x7f5e52c0caf2 0x551555 0x5a9dac 0x50a433 0x50beb4 0x507be4 0x508ec2 0x594a01 0x549e8f 0x5515c1 0x5a9dac 0x50a433 0x50cc96 0x507be4 0x508ec2 0x594a01 0x549e8f 0x5515c1 0x5a9dac 0x50a433 0x50beb4 0x507be4\n",
            "THCudaCheck FAIL file=/pytorch/aten/src/THC/THCGeneral.cpp line=383 error=11 : invalid argument\n"
          ],
          "name": "stdout"
        }
      ]
    },
    {
      "cell_type": "code",
      "metadata": {
        "colab": {
          "base_uri": "https://localhost:8080/"
        },
        "id": "uBIJKynGeI7L",
        "outputId": "53c0715a-598f-4dc1-f561-10dc1f323acd"
      },
      "source": [
        "!python3 videowise_visualization.py --num_points_visualization 6"
      ],
      "execution_count": null,
      "outputs": [
        {
          "output_type": "stream",
          "text": [
            "tcmalloc: large alloc 1073741824 bytes == 0x1986b6000 @  0x7f73587e0b6b 0x7f7358800379 0x7f730dfe4e4e 0x7f730dfe6dca 0x7f730ec2ad62 0x7f730ed48b1b 0x7f734d30d86f 0x7f734d6edcff 0x7f734d6f348a 0x7f734d58daf2 0x551555 0x5a9dac 0x50a433 0x50beb4 0x507be4 0x508ec2 0x594a01 0x549e8f 0x5515c1 0x5a9dac 0x50a433 0x50cc96 0x507be4 0x508ec2 0x594a01 0x549e8f 0x5515c1 0x5a9dac 0x50a433 0x50beb4 0x507be4\n",
            "THCudaCheck FAIL file=/pytorch/aten/src/THC/THCGeneral.cpp line=383 error=11 : invalid argument\n"
          ],
          "name": "stdout"
        }
      ]
    },
    {
      "cell_type": "code",
      "metadata": {
        "colab": {
          "base_uri": "https://localhost:8080/"
        },
        "id": "jepN-rGtepxj",
        "outputId": "f45b8eff-461a-4f3f-dc18-b4b90bc05017"
      },
      "source": [
        "!python3 prediction_geodesic.py "
      ],
      "execution_count": null,
      "outputs": [
        {
          "output_type": "stream",
          "text": [
            "tcmalloc: large alloc 1073741824 bytes == 0x197362000 @  0x7f51e6797b6b 0x7f51e67b7379 0x7f519bf9be4e 0x7f519bf9ddca 0x7f519cbe1d62 0x7f519ccffb1b 0x7f51db2c486f 0x7f51db6a4cff 0x7f51db6aa48a 0x7f51db544af2 0x551555 0x5a9dac 0x50a433 0x50beb4 0x507be4 0x508ec2 0x594a01 0x549e8f 0x5515c1 0x5a9dac 0x50a433 0x50cc96 0x507be4 0x508ec2 0x594a01 0x549e8f 0x5515c1 0x5a9dac 0x50a433 0x50beb4 0x507be4\n",
            "THCudaCheck FAIL file=/pytorch/aten/src/THC/THCGeneral.cpp line=383 error=11 : invalid argument\n",
            "Loss at Epoch 0, Iteration 0 is 13.14601993560791\n",
            "Loss at Epoch 0, Iteration 100 is 152.25999450683594\n",
            "Loss at Epoch 0, Iteration 200 is 43.758460998535156\n",
            "Loss at Epoch 0, Iteration 300 is 97.67936706542969\n",
            "Loss at Epoch 0, Iteration 400 is 65.02500915527344\n",
            "Loss at Epoch 0, Iteration 500 is 66.7340087890625\n",
            "Loss at Epoch 0, Iteration 600 is 76.21531677246094\n",
            "Loss at Epoch 0, Iteration 700 is 41.633209228515625\n",
            "Loss at Epoch 0, Iteration 800 is 87.25991821289062\n",
            "Loss at Epoch 0, Iteration 900 is 53.33034896850586\n",
            "Loss at Epoch 0, Iteration 1000 is 41.4077033996582\n",
            "Loss at Epoch 0, Iteration 1100 is 92.49685668945312\n",
            "Loss at Epoch 0, Iteration 1200 is 41.79882049560547\n",
            "Loss at Epoch 0, Iteration 1300 is 22.184560775756836\n",
            "Loss at Epoch 0, Iteration 1400 is 29.142322540283203\n"
          ],
          "name": "stdout"
        }
      ]
    }
  ]
}